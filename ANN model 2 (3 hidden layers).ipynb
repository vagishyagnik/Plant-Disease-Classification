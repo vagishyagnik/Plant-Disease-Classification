{
 "cells": [
  {
   "cell_type": "markdown",
   "metadata": {},
   "source": [
    "# ANN Model2"
   ]
  },
  {
   "cell_type": "code",
   "execution_count": 1,
   "metadata": {},
   "outputs": [],
   "source": [
    "import numpy as np\n",
    "from keras.utils import to_categorical"
   ]
  },
  {
   "cell_type": "code",
   "execution_count": 2,
   "metadata": {},
   "outputs": [],
   "source": [
    "x_train = np.load('x_train_ann.npy',allow_pickle=True)\n",
    "x_test = np.load('x_test_ann.npy',allow_pickle=True)\n",
    "y_train = np.load('y_train_ann.npy',allow_pickle=True)\n",
    "y_test = np.load('y_test_ann.npy',allow_pickle=True)"
   ]
  },
  {
   "cell_type": "code",
   "execution_count": 3,
   "metadata": {},
   "outputs": [
    {
     "name": "stderr",
     "output_type": "stream",
     "text": [
      "Using TensorFlow backend.\n"
     ]
    }
   ],
   "source": []
  },
  {
   "cell_type": "code",
   "execution_count": 4,
   "metadata": {},
   "outputs": [
    {
     "name": "stdout",
     "output_type": "stream",
     "text": [
      "(17835, 15)\n",
      "(4459, 15)\n"
     ]
    }
   ],
   "source": [
    "#Converting to One_Hot_Vector\n",
    "y_train = to_categorical(y_train)\n",
    "y_test = to_categorical(y_test)\n",
    "print(y_train.shape)\n",
    "print(y_test.shape)"
   ]
  },
  {
   "cell_type": "code",
   "execution_count": 5,
   "metadata": {},
   "outputs": [
    {
     "name": "stdout",
     "output_type": "stream",
     "text": [
      "(17835, 19200) (17835, 15) (4459, 19200) (4459, 15)\n"
     ]
    }
   ],
   "source": [
    "print(x_train.shape , y_train.shape , x_test.shape , y_test.shape)"
   ]
  },
  {
   "cell_type": "code",
   "execution_count": 33,
   "metadata": {},
   "outputs": [],
   "source": [
    "#Extracting the actual class of the leaf\n",
    "actual_output = []\n",
    "for y in y_test:\n",
    "    actual_output.append(y.argmax())"
   ]
  },
  {
   "cell_type": "code",
   "execution_count": 34,
   "metadata": {},
   "outputs": [],
   "source": [
    "actual_output = np.array(actual_output) #Conversion to a numpy array"
   ]
  },
  {
   "cell_type": "code",
   "execution_count": 64,
   "metadata": {},
   "outputs": [],
   "source": [
    "class Artificial_Neural_Network:\n",
    "    \n",
    "    def __init__(self, X, y,val_x,val_y,classes):\n",
    "        \n",
    "        # X,y are for training and testX,testy are for testing\n",
    "        self.X = X\n",
    "        self.y = y\n",
    "        self.testX = val_x\n",
    "        self.testy = val_y\n",
    "        \n",
    "        # Neurons in the 3 hidden layers\n",
    "        self.H1_size = 1024\n",
    "        self.H2_size = 512\n",
    "        self.H3_size = 256\n",
    "        \n",
    "        self.OUTPUT_SIZE = classes     # 15\n",
    "        self.INPUT_SIZE = X.shape[1]   # 17835\n",
    "        self.losses = []\n",
    "        \n",
    "        # Initialize weights (2d matrices)\n",
    "        self.W1 = np.random.randn(self.INPUT_SIZE, self.H1_size)\n",
    "        self.W2 = np.random.randn(self.H1_size, self.H2_size)\n",
    "        self.W3 = np.random.randn(self.H2_size, self.H3_size)\n",
    "        self.W4 = np.random.randn(self.H3_size, self.OUTPUT_SIZE)\n",
    "        \n",
    "        # Initialize biases (2d matrices)\n",
    "        self.b1 = np.random.random((1, self.H1_size))\n",
    "        self.b2 = np.random.random((1, self.H2_size))\n",
    "        self.b3 = np.random.random((1, self.H3_size))\n",
    "        self.b4 = np.random.random((1, self.OUTPUT_SIZE))\n",
    "    \n",
    "    def sigmoid(self, z):\n",
    "        return 1 / (1 + np.exp(-z))\n",
    "    \n",
    "    # Derivative of sigmoid function\n",
    "    def sigmoid_prime(self, z):\n",
    "        s = self.sigmoid(z)\n",
    "        return s * (1 - s)\n",
    "    \n",
    "    def softmax(self, z):\n",
    "        return np.exp(z) / np.sum(np.exp(z), axis=1, keepdims=True)\n",
    "    \n",
    "    def forward(self, x):\n",
    "        \n",
    "        # 1st layer output\n",
    "        Z1   = x.dot(self.W1) + self.b1\n",
    "        A1   = self.sigmoid(Z1)\n",
    "        \n",
    "        # 2nd layer output\n",
    "        Z2   = A1.dot(self.W2) + self.b2\n",
    "        A2   = self.sigmoid(Z2)\n",
    "        \n",
    "        # 3rd layer output\n",
    "        Z3   = A2.dot(self.W3) + self.b3\n",
    "        A3   = self.sigmoid(Z3)\n",
    "        \n",
    "        # 4th layer output\n",
    "        Z4   = A3.dot(self.W4) + self.b4\n",
    "        yhat = self.softmax(Z4)\n",
    "        \n",
    "        # Values after activation function of each layer\n",
    "        self.activations = [A1, A2, A3, yhat]\n",
    "        \n",
    "        return yhat\n",
    "    \n",
    "    def backprop(self, x, y, yhat, learning_rate=0.01):\n",
    "        \n",
    "        A1, A2, A3, yhat = self.activations\n",
    "        \n",
    "        # Compute Gradients\n",
    "        del4 = yhat - y\n",
    "        dl_dw4  = A3.T.dot(del4)\n",
    "        dl_db4  = del4.sum(axis=0, keepdims=True)\n",
    "        \n",
    "        del3 = del4.dot(self.W4.T) * (A3 * (1 - A3))\n",
    "        dl_dw3  = A2.T.dot(del3)\n",
    "        dl_db3  = del3.sum(axis=0, keepdims=True)\n",
    "        \n",
    "        del2 = del3.dot(self.W3.T) * (A2 * (1 - A2))\n",
    "        dl_dw2  = A1.T.dot(del2)\n",
    "        dl_db2  = del2.sum(axis=0, keepdims=True)\n",
    "    \n",
    "        del1 = del2.dot(self.W2.T) * (A1 * (1 - A1))\n",
    "        dl_dw1  = x.T.dot(del1)\n",
    "        dl_db1  = del1.sum(axis=0, keepdims=True)\n",
    "\n",
    "        # Update Weights\n",
    "        self.W4 -= dl_dw4 * learning_rate\n",
    "        self.b4 -= dl_db4 * learning_rate\n",
    "        \n",
    "        self.W3 -= dl_dw3 * learning_rate\n",
    "        self.b3 -= dl_db3 * learning_rate\n",
    "        \n",
    "        self.W2 -= dl_dw2 * learning_rate\n",
    "        self.b2 -= dl_db2 * learning_rate\n",
    "        \n",
    "        self.W1 -= dl_dw1 * learning_rate\n",
    "        self.b1 -= dl_db1 * learning_rate\n",
    "        \n",
    "        \n",
    "    # Prediction of 1 image \n",
    "    def get_predictions(self, testdata):\n",
    "        yhat = self.forward(testdata)\n",
    "        preds = np.argmax(yhat, axis=1)\n",
    "        return preds\n",
    "    \n",
    "    # Predictions of all images\n",
    "    def get_all_predictions(self,testdata):\n",
    "        preds = []\n",
    "        for x in testdata:\n",
    "            preds.append(self.get_predictions(x)[0])\n",
    "        return np.array(preds)\n",
    "    \n",
    "    def train(self, learning_rate=0.001, epochs=10, batchsize=128):\n",
    "        \n",
    "        # Reversing the one hot vectors of Actual Output (Actual class)\n",
    "        y_train_actual = self.reversal_of_one_hot(self.y)\n",
    "        y_test_actual = self.reversal_of_one_hot(self.testy)\n",
    "        \n",
    "        # Loop for each epoch\n",
    "        for e in range(epochs):\n",
    "            size = 0\n",
    "            \n",
    "            # Applying forward and backward propagations batch wise with a batch size of 128\n",
    "            while size + batchsize < self.X.shape[0]:\n",
    "                xbatch = self.X[size : size + batchsize]\n",
    "                ybatch = self.y[size : size + batchsize]\n",
    "                size += batchsize\n",
    "\n",
    "                yhat_batch = self.forward(xbatch)\n",
    "                self.backprop(xbatch, ybatch, yhat_batch, learning_rate)\n",
    "            \n",
    "            yhat = self.forward(self.X)\n",
    "            self.losses.append(self.compute_loss(self.y, yhat))\n",
    "            \n",
    "            # Training Accuracy\n",
    "            train_preds = self.get_all_predictions(self.X)            \n",
    "            acc = self.accuracy(train_preds , y_train_actual)\n",
    "            \n",
    "            # Testing Accuracy\n",
    "            val_yhat = self.forward(self.testX)\n",
    "            val_loss = self.compute_loss(self.testy , val_yhat)\n",
    "            test_preds = self.get_all_predictions(self.testX)\n",
    "            val_acc = self.accuracy(test_preds , y_test_actual)\n",
    "            \n",
    "            # Printing details of each epoch\n",
    "            print(\"Epoch [{}/{}]: loss : {}   acc : {}   val_loss : {}  val_acc : {}\".format(e,epochs, self.losses[-1] , acc , val_loss , val_acc))\n",
    "\n",
    "    \n",
    "    def reversal_of_one_hot(self, y_data):\n",
    "        actual_output = []\n",
    "        for y in y_data:\n",
    "            actual_output.append(y.argmax())\n",
    "        return np.array(actual_output)\n",
    "    \n",
    "    def accuracy(self, preds, true_labels):\n",
    "        return (preds == true_labels).sum()/preds.shape[0]\n",
    "    \n",
    "    def compute_loss(self, y, yhat):\n",
    "        # L = -E[y log(yhat)]\n",
    "        return -np.sum(y * np.log(yhat))\n",
    "    \n",
    "\n",
    "    "
   ]
  },
  {
   "cell_type": "code",
   "execution_count": 65,
   "metadata": {},
   "outputs": [],
   "source": [
    "ann = Artificial_Neural_Network(x_train,y_train,x_test,y_test,15)"
   ]
  },
  {
   "cell_type": "code",
   "execution_count": 66,
   "metadata": {},
   "outputs": [
    {
     "data": {
      "text/plain": [
       "(19200, 1024, 512, 256, 15)"
      ]
     },
     "execution_count": 66,
     "metadata": {},
     "output_type": "execute_result"
    }
   ],
   "source": [
    "ann.INPUT_SIZE, ann.H1_size, ann.H2_size, ann.H3_size, ann.OUTPUT_SIZE"
   ]
  },
  {
   "cell_type": "code",
   "execution_count": 67,
   "metadata": {},
   "outputs": [
    {
     "name": "stdout",
     "output_type": "stream",
     "text": [
      "First Loss:  350142.57577084674\n"
     ]
    }
   ],
   "source": [
    "print(\"First Loss: \", ann.compute_loss(ann.y, ann.forward(ann.X)))"
   ]
  },
  {
   "cell_type": "code",
   "execution_count": 68,
   "metadata": {},
   "outputs": [
    {
     "name": "stdout",
     "output_type": "stream",
     "text": [
      "Epoch [0/40]: loss : 46474.8615423675   acc : 0.17045135968601066   val_loss : 11930.754961239518  val_acc : 0.1509307019511101\n",
      "Epoch [1/40]: loss : 44994.6575096995   acc : 0.2015699467339501   val_loss : 11617.886247018021  val_acc : 0.18008522090154744\n",
      "Epoch [2/40]: loss : 43905.27972592695   acc : 0.21979254275301374   val_loss : 11393.4428705644  val_acc : 0.19937205651491366\n",
      "Epoch [3/40]: loss : 42954.75198295132   acc : 0.23050182225960192   val_loss : 11178.524241292314  val_acc : 0.21013680197353668\n",
      "Epoch [4/40]: loss : 42039.30260207653   acc : 0.23739837398373984   val_loss : 10980.9671983858  val_acc : 0.2141735815205203\n",
      "Epoch [5/40]: loss : 41277.844396189765   acc : 0.25242500700869075   val_loss : 10856.944536169087  val_acc : 0.22202287508409957\n",
      "Epoch [6/40]: loss : 40315.47684884919   acc : 0.2638631903560415   val_loss : 10571.549127262784  val_acc : 0.2336846826642745\n",
      "Epoch [7/40]: loss : 39256.43924613614   acc : 0.28191757779646764   val_loss : 10353.411891633335  val_acc : 0.25229872168647677\n",
      "Epoch [8/40]: loss : 38647.722713638665   acc : 0.29083263246425567   val_loss : 10275.784936066435  val_acc : 0.2547656425207446\n",
      "Epoch [9/40]: loss : 38057.20921480373   acc : 0.30456966638631905   val_loss : 10169.618389146382  val_acc : 0.2650818569185916\n",
      "Epoch [10/40]: loss : 37517.49193093623   acc : 0.31791421362489486   val_loss : 10107.24554616355  val_acc : 0.2753980713164387\n",
      "Epoch [11/40]: loss : 37082.16192616163   acc : 0.3348472105410709   val_loss : 10039.437536238936  val_acc : 0.2922179860955371\n",
      "Epoch [12/40]: loss : 36588.90002402205   acc : 0.33843566021867116   val_loss : 9959.002003938504  val_acc : 0.2875084099573896\n",
      "Epoch [13/40]: loss : 35674.233446968   acc : 0.3582842724978974   val_loss : 9730.41050044633  val_acc : 0.31464453913433504\n",
      "Epoch [14/40]: loss : 35110.10753956669   acc : 0.3712363330529857   val_loss : 9578.467768888582  val_acc : 0.32854900201838977\n",
      "Epoch [15/40]: loss : 34653.139447665584   acc : 0.37824502382954867   val_loss : 9579.891041893956  val_acc : 0.3292217986095537\n",
      "Epoch [16/40]: loss : 34282.92193624154   acc : 0.38772077375946173   val_loss : 9537.921385164718  val_acc : 0.33325857815653737\n",
      "Epoch [17/40]: loss : 33784.917651107775   acc : 0.39770114942528734   val_loss : 9424.78134711391  val_acc : 0.3455931823278762\n",
      "Epoch [18/40]: loss : 33388.03131129295   acc : 0.4009531819456126   val_loss : 9410.437638120657  val_acc : 0.34155640278089255\n",
      "Epoch [19/40]: loss : 33041.36648437513   acc : 0.40751331651247547   val_loss : 9377.228760057458  val_acc : 0.34335052702399643\n",
      "Epoch [20/40]: loss : 32602.69512414462   acc : 0.4143537987104009   val_loss : 9323.809064338477  val_acc : 0.3523211482395156\n",
      "Epoch [21/40]: loss : 32364.330810892814   acc : 0.42158676759181385   val_loss : 9324.677402352028  val_acc : 0.35142408611796366\n",
      "Epoch [22/40]: loss : 32081.192045771713   acc : 0.4258480515839641   val_loss : 9317.673149615877  val_acc : 0.3505270239964117\n",
      "Epoch [23/40]: loss : 31633.019834742227   acc : 0.43313708999158956   val_loss : 9278.11145899187  val_acc : 0.3520968827091276\n",
      "Epoch [24/40]: loss : 31193.21322745322   acc : 0.4444631342865153   val_loss : 9217.062112655076  val_acc : 0.35389100695223147\n",
      "Epoch [25/40]: loss : 30839.183699148078   acc : 0.4522007289038408   val_loss : 9157.907170020926  val_acc : 0.36465575241085446\n",
      "Epoch [26/40]: loss : 30482.618821348475   acc : 0.45354639753294085   val_loss : 9127.401625378294  val_acc : 0.36353442475891456\n",
      "Epoch [27/40]: loss : 30105.928742058593   acc : 0.4618446874123914   val_loss : 9116.636845702798  val_acc : 0.3612917694550348\n",
      "Epoch [28/40]: loss : 29768.359302733516   acc : 0.4679001962433417   val_loss : 9103.075470130547  val_acc : 0.3686925319578381\n",
      "Epoch [29/40]: loss : 29495.17423154675   acc : 0.471825063078217   val_loss : 9072.673069029077  val_acc : 0.3769903565821933\n",
      "Epoch [30/40]: loss : 29159.662116066746   acc : 0.47804878048780486   val_loss : 9076.31298109011  val_acc : 0.3738506391567616\n",
      "Epoch [31/40]: loss : 28942.416040680055   acc : 0.48231006447995517   val_loss : 9090.097155188936  val_acc : 0.37362637362637363\n",
      "Epoch [32/40]: loss : 28651.100798902873   acc : 0.4880291561536305   val_loss : 9059.920201045237  val_acc : 0.37429917021753756\n",
      "Epoch [33/40]: loss : 28349.025912597688   acc : 0.49397252593215585   val_loss : 9025.697672595585  val_acc : 0.3792330118860731\n",
      "Epoch [34/40]: loss : 28049.53384963034   acc : 0.4986262966077937   val_loss : 9004.792784570072  val_acc : 0.380802870598789\n",
      "Epoch [35/40]: loss : 27801.100922124308   acc : 0.5029997196523689   val_loss : 9000.40726904157  val_acc : 0.38214846378111683\n",
      "Epoch [36/40]: loss : 27515.202521076357   acc : 0.5072610036445192   val_loss : 8985.556618266612  val_acc : 0.38416685355460867\n",
      "Epoch [37/40]: loss : 27259.694637067994   acc : 0.512026913372582   val_loss : 8973.088558073117  val_acc : 0.3866337743888764\n",
      "Epoch [38/40]: loss : 27033.495085178958   acc : 0.5149985982618447   val_loss : 8963.394092281747  val_acc : 0.3899977573446961\n",
      "Epoch [39/40]: loss : 26813.426036566634   acc : 0.5202691337258201   val_loss : 8956.61562602958  val_acc : 0.39268894370935187\n"
     ]
    }
   ],
   "source": [
    "ann.train(learning_rate=0.001, epochs=40,batch_size=128)"
   ]
  },
  {
   "cell_type": "code",
   "execution_count": 69,
   "metadata": {},
   "outputs": [
    {
     "data": {
      "image/png": "[encoded data removed]",
      "text/plain": [
       "<Figure size 432x288 with 1 Axes>"
      ]
     },
     "metadata": {
      "needs_background": "light"
     },
     "output_type": "display_data"
    }
   ],
   "source": [
    "plt.figure()\n",
    "plt.plot(ann.losses)\n",
    "plt.show()"
   ]
  },
  {
   "cell_type": "code",
   "execution_count": 70,
   "metadata": {},
   "outputs": [],
   "source": [
    "preds1 = []\n",
    "for x in x_test:\n",
    "    preds1.append(ann.get_predictions(x)[0])"
   ]
  },
  {
   "cell_type": "code",
   "execution_count": 71,
   "metadata": {},
   "outputs": [],
   "source": [
    "preds1 = np.array(preds1)"
   ]
  },
  {
   "cell_type": "code",
   "execution_count": 72,
   "metadata": {},
   "outputs": [
    {
     "data": {
      "text/plain": [
       "0.39268894370935187"
      ]
     },
     "execution_count": 72,
     "metadata": {},
     "output_type": "execute_result"
    }
   ],
   "source": [
    "ann.accuracy(preds1,actual_output)"
   ]
  },
  {
   "cell_type": "code",
   "execution_count": null,
   "metadata": {},
   "outputs": [],
   "source": []
  },
  {
   "cell_type": "code",
   "execution_count": null,
   "metadata": {},
   "outputs": [],
   "source": []
  },
  {
   "cell_type": "code",
   "execution_count": null,
   "metadata": {},
   "outputs": [],
   "source": []
  },
  {
   "cell_type": "code",
   "execution_count": null,
   "metadata": {},
   "outputs": [],
   "source": []
  },
  {
   "cell_type": "code",
   "execution_count": null,
   "metadata": {},
   "outputs": [],
   "source": []
  }
 ],
 "metadata": {
  "kernelspec": {
   "display_name": "Python 3",
   "language": "python",
   "name": "python3"
  },
  "language_info": {
   "codemirror_mode": {
    "name": "ipython",
    "version": 3
   },
   "file_extension": ".py",
   "mimetype": "text/x-python",
   "name": "python",
   "nbconvert_exporter": "python",
   "pygments_lexer": "ipython3",
   "version": "3.7.9"
  }
 },
 "nbformat": 4,
 "nbformat_minor": 2
}
